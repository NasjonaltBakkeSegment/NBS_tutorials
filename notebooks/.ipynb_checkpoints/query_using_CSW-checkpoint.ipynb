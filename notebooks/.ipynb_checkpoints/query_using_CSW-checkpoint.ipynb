{
 "cells": [
  {
   "cell_type": "markdown",
   "id": "175f1497-cdca-431c-b994-ee7b85fffd41",
   "metadata": {},
   "source": [
    "## How to Query satellittdata.no Using CSW\n",
    "\n",
    "The **Catalogue Service for the Web (CSW)** is an **Open Geospatial Consortium (OGC)** standard that enables structured querying and discovery of geospatial metadata over the web. It provides a standardised interface to search metadata catalogues using parameters such as keywords, spatial extent, and time. This tutorial demonstrates how to use CSW to query datasets hosted on [satellittdata.no](https://www.satellittdata.no/), Norway’s national satellite data portal. With Python tools, we can efficiently discover and retrieve metadata about available Earth observation products.\n",
    "\n",
    "> **Note**: This tutorial is in development. The below functionality should work but we plan to expand this functionality in the future.\n",
    "\n",
    "## Importing libraries\n",
    "\n",
    "Let's begin by importing the Python libraries we’ll use in this session.\n",
    "\n",
    "If you don’t already have **OWSLib** installed, you may need to run:\n",
    "\n",
    "```bash\n",
    "pip install owslib\n",
    "```\n",
    "\n",
    "Now we can import the libraries"
   ]
  },
  {
   "cell_type": "code",
   "execution_count": 1,
   "id": "20e2282f-7c47-4409-9290-c78bef1a4f41",
   "metadata": {},
   "outputs": [],
   "source": [
    "from owslib import fes\n",
    "from owslib.csw import CatalogueServiceWeb\n",
    "from datetime import datetime, timedelta\n",
    "import pytz"
   ]
  },
  {
   "cell_type": "markdown",
   "id": "890ada11-5e0d-4307-8dd7-ab3420db533e",
   "metadata": {},
   "source": [
    "## Defining functions\n",
    "\n",
    "Let's now define some functions that will help us use CSW to query. We will use these functions to perform a range of queries in the next section."
   ]
  },
  {
   "cell_type": "code",
   "execution_count": 2,
   "id": "a08a61d3-c49b-4dd6-96f9-92cb08508cdc",
   "metadata": {},
   "outputs": [],
   "source": [
    "def _get_csw_connection(endpoint):\n",
    "    \"\"\" Connect to CSW server\n",
    "    \"\"\"\n",
    "    csw = CatalogueServiceWeb(endpoint, timeout=60)\n",
    "    return csw\n",
    "\n",
    "def _get_freetxt_search(kw_names):\n",
    "    \"\"\"\n",
    "    Retuns a CSW search object based on input string\n",
    "    \"\"\"\n",
    "    freetxt_filt = fes.PropertyIsLike('apiso:AnyText',  literal=('%s' % kw_names),\n",
    "                                      escapeChar=\"\\\\\", singleChar=\".\",\n",
    "                                      wildCard=\"*\", matchCase=\"True\")\n",
    "    return freetxt_filt\n",
    "\n",
    "def _get_csw_records(csw, filter_list, pagesize=10, maxrecords=1):\n",
    "    \"\"\"\n",
    "    Iterate `maxrecords`/`pagesize` times until the requested value in\n",
    "    `maxrecords` is reached.\n",
    "    \"\"\"\n",
    "    csw_records = {}\n",
    "    startposition = 0\n",
    "    nextrecord = getattr(csw, \"results\", 1)\n",
    "    while nextrecord != 0:\n",
    "        csw.getrecords2(\n",
    "            constraints=filter_list,\n",
    "            startposition=startposition,\n",
    "            maxrecords=pagesize,\n",
    "            outputschema=\"http://www.opengis.net/cat/csw/2.0.2\",\n",
    "            esn='full',\n",
    "        )\n",
    "        print(csw.results)\n",
    "        csw_records.update(csw.records)\n",
    "        if csw.results[\"nextrecord\"] == 0:\n",
    "            break\n",
    "        startposition += pagesize + 1  # Last one is included.\n",
    "        if startposition >= maxrecords:\n",
    "            break\n",
    "    csw.records.update(csw_records)\n",
    "\n",
    "def _fes_date_filter(start, stop, constraint=\"overlaps\"):\n",
    "    \"\"\"\n",
    "    Take datetime-like objects and returns a fes filter for date range\n",
    "    (begin and end inclusive).\n",
    "    NOTE: Truncates the minutes!!!\n",
    "    \"\"\"\n",
    "    start = start.strftime(\"%Y-%m-%d %H:00\")\n",
    "    stop = stop.strftime(\"%Y-%m-%d %H:00\")\n",
    "    if constraint == \"overlaps\":\n",
    "        propertyname = \"apiso:TempExtent_begin\"\n",
    "        begin = fes.PropertyIsLessThanOrEqualTo(propertyname=propertyname, literal=stop)\n",
    "        propertyname = \"apiso:TempExtent_end\"\n",
    "        end = fes.PropertyIsGreaterThanOrEqualTo(\n",
    "            propertyname=propertyname, literal=start\n",
    "        )\n",
    "    elif constraint == \"within\":\n",
    "        propertyname = \"apiso:TempExtent_begin\"\n",
    "        begin = fes.PropertyIsGreaterThanOrEqualTo(\n",
    "            propertyname=propertyname, literal=start\n",
    "        )\n",
    "        propertyname = \"apiso:TempExtent_end\"\n",
    "        end = fes.PropertyIsLessThanOrEqualTo(propertyname=propertyname, literal=stop)\n",
    "    else:\n",
    "        raise NameError(\"Unrecognized constraint {}\".format(constraint))\n",
    "    return begin, end\n",
    "\n",
    "def _create_filter(bbox, start, stop, product_name_pattern):\n",
    "    \"\"\"\n",
    "    Create a CSW-compatible filter for querying satellittdata.no.\n",
    "\n",
    "    Parameters:\n",
    "        bbox (list or tuple): A bounding box defined as [minx, miny, maxx, maxy]\n",
    "                              in decimal degrees (longitude, latitude).\n",
    "        start (str): Start date in ISO format (e.g. '2025-06-01T00:00:00Z').\n",
    "        stop (str): End date in ISO format (e.g. '2025-06-30T23:59:59Z').\n",
    "        product_name_pattern (str): A text pattern or full name of the product \n",
    "                                    to search for (e.g. 'S1*GRDM*').\n",
    "\n",
    "    Returns:\n",
    "        csw (owslib.csw.CatalogueServiceWeb): A CSW connection object.\n",
    "        filter_list (list): A list of FES (Filter Encoding Specification) \n",
    "                            constraints to use in a CSW query.\n",
    "    \"\"\"\n",
    "    endpoint='https://nbs.csw.met.no'\n",
    "    crs='urn:x-ogc:def:crs:EPSG:6.18:4326'\n",
    "\n",
    "    constraints = []\n",
    "    # connect to endpoint\n",
    "    try:\n",
    "        csw = _get_csw_connection(endpoint)\n",
    "    except Exception as e:\n",
    "        print(\"Exception: %s\" % str(e))\n",
    "    \n",
    "    if product_name_pattern:\n",
    "        freetxt_filt = _get_freetxt_search(product_name_pattern)\n",
    "        constraints.append(freetxt_filt)\n",
    "    \n",
    "    if all(v is not None for v in [start, stop]):\n",
    "        begin, end = _fes_date_filter(start, stop)\n",
    "        constraints.append(begin)\n",
    "        constraints.append(end)\n",
    "    \n",
    "    if bbox:\n",
    "         bbox_crs = fes.BBox(bbox, crs=crs)\n",
    "         constraints.append(bbox_crs)\n",
    "    \n",
    "    if len(constraints) >= 2:\n",
    "        filter_list = [fes.And(constraints)]\n",
    "    else:\n",
    "        filter_list = constraints\n",
    "\n",
    "    return csw, filter_list\n",
    "    "
   ]
  },
  {
   "cell_type": "markdown",
   "id": "65d0bb8e-a3f5-4f26-8ed0-589d8c9ecba0",
   "metadata": {},
   "source": [
    "## Querying Using CSW\n",
    "\n",
    "There are three main parameters you can use to query the catalogue:\n",
    "\n",
    "- **Bounding box**: A bounding box defined as [minx, miny, maxx, maxy] in decimal degrees (longitude, latitude).\n",
    "- **Time range**: Specify a start and end datetime in ISO format (e.g. '2025-06-01T00:00:00Z').\n",
    "- **Product name (or pattern)**: This can be a full product identifier or a partial match using wildcards, e.g.:\n",
    "    - A specific product: `S1A_EW_GRDM_1SDH_20250613T174547_20250613T174623_059631_076768_FDA0`\n",
    "    - All Sentinel-2 products: `S2*`\n",
    "    - All Sentinel-1 GRDM products: `S1*GRDM*`\n",
    "    - Any other similar pattern can be used to filter products by name.\n",
    "\n",
    "Let's first return the CSW records for an example query."
   ]
  },
  {
   "cell_type": "code",
   "execution_count": 3,
   "id": "3f56b262-4465-403b-8042-cd5fa0b5ef81",
   "metadata": {},
   "outputs": [
    {
     "name": "stdout",
     "output_type": "stream",
     "text": [
      "{'matches': 285, 'returned': 3, 'nextrecord': 4}\n",
      "{'matches': 285, 'returned': 3, 'nextrecord': 7}\n"
     ]
    },
    {
     "data": {
      "text/plain": [
       "OrderedDict([('9484cbcc-c1d0-48d8-0de6-0107560ca083',\n",
       "              <owslib.catalogue.csw2.CswRecord at 0x7206880e2ad0>),\n",
       "             ('9484cbcc-c1d0-48d8-0de6-0107560ca710',\n",
       "              <owslib.catalogue.csw2.CswRecord at 0x7206880e3750>),\n",
       "             ('9484cbcc-c1d0-48d8-0de6-0107560cce39',\n",
       "              <owslib.catalogue.csw2.CswRecord at 0x7206880e2a90>),\n",
       "             ('f124218a-3dcb-4ee1-ac93-1051d5efbbc3',\n",
       "              <owslib.catalogue.csw2.CswRecord at 0x7206a4ed3910>),\n",
       "             ('30794d32-44bf-40b4-bf59-bb9deb03f863',\n",
       "              <owslib.catalogue.csw2.CswRecord at 0x7206880e1650>),\n",
       "             ('3191358e-d41d-4948-85e6-c00935d982fe',\n",
       "              <owslib.catalogue.csw2.CswRecord at 0x7206880e2710>)])"
      ]
     },
     "execution_count": 3,
     "metadata": {},
     "output_type": "execute_result"
    }
   ],
   "source": [
    "bbox = [-10, 75, 10, 90] # minx, miny, maxx, maxy\n",
    "start = datetime(2025, 6, 5, 00, 00, 00).replace(tzinfo=pytz.utc)\n",
    "stop = datetime(2025, 7, 3, 00, 00, 00).replace(tzinfo=pytz.utc)\n",
    "product_name_pattern = 'S1*GRDM*'\n",
    "\n",
    "csw, filter_list = _create_filter(bbox, start, stop, product_name_pattern)\n",
    "\n",
    "_get_csw_records(csw, filter_list, pagesize=3, maxrecords=6)\n",
    "csw.records"
   ]
  },
  {
   "cell_type": "markdown",
   "id": "e583bd94-eadb-40fc-96c7-bf6ee297ad6b",
   "metadata": {},
   "source": [
    "We have used pagesize and maxrecords to limit the number of products returned. Many products were found, but we stated that we only wanted 3 to be returned at a time, and 6 in total.\n",
    "\n",
    "Let's now extract some useful information from this query, such as various URLs for accessing the data.\n",
    "\n",
    "### Returning dictionaries that include all the URLs"
   ]
  },
  {
   "cell_type": "code",
   "execution_count": 4,
   "id": "3e9608e6-8e5b-4000-8260-883ee102f1c7",
   "metadata": {},
   "outputs": [
    {
     "name": "stdout",
     "output_type": "stream",
     "text": [
      "{'scheme': 'OPeNDAP:OPeNDAP', 'url': 'https://nbstds.met.no/thredds/dodsC/NBS/S1C/2025/06/30/EW/S1C_EW_GRDM_1SDH_20250630T072052_20250630T072152_003009_006209_645B.nc'}\n",
      "{'scheme': 'OGC:WMS', 'url': 'https://adc-wms.met.no/get_wms/9484cbcc-c1d0-48d8-0de6-0107560ca083/wms'}\n",
      "{'scheme': 'WWW:DOWNLOAD-1.0-http--download', 'url': 'https://nbstds.met.no/thredds/fileServer/nbsArchive/S1C/2025/06/30/EW/S1C_EW_GRDM_1SDH_20250630T072052_20250630T072152_003009_006209_645B.zip'}\n",
      "{'scheme': 'OPeNDAP:OPeNDAP', 'url': 'https://nbstds.met.no/thredds/dodsC/NBS/S1C/2025/06/30/EW/S1C_EW_GRDM_1SDH_20250630T071952_20250630T072052_003009_006209_F006.nc'}\n",
      "{'scheme': 'OGC:WMS', 'url': 'https://adc-wms.met.no/get_wms/9484cbcc-c1d0-48d8-0de6-0107560ca710/wms'}\n",
      "{'scheme': 'WWW:DOWNLOAD-1.0-http--download', 'url': 'https://nbstds.met.no/thredds/fileServer/nbsArchive/S1C/2025/06/30/EW/S1C_EW_GRDM_1SDH_20250630T071952_20250630T072052_003009_006209_F006.zip'}\n",
      "{'scheme': 'OPeNDAP:OPeNDAP', 'url': 'https://nbstds.met.no/thredds/dodsC/NBS/S1C/2025/06/30/EW/S1C_EW_GRDM_1SDH_20250630T085810_20250630T085910_003010_006213_9C2C.nc'}\n",
      "{'scheme': 'OGC:WMS', 'url': 'https://adc-wms.met.no/get_wms/9484cbcc-c1d0-48d8-0de6-0107560cce39/wms'}\n",
      "{'scheme': 'WWW:DOWNLOAD-1.0-http--download', 'url': 'https://nbstds.met.no/thredds/fileServer/nbsArchive/S1C/2025/06/30/EW/S1C_EW_GRDM_1SDH_20250630T085810_20250630T085910_003010_006213_9C2C.zip'}\n",
      "{'scheme': 'OPeNDAP:OPeNDAP', 'url': 'https://nbstds.met.no/thredds/dodsC/NBS/S1A/2025/06/30/EW/S1A_EW_GRDM_1SDH_20250630T175659_20250630T175748_059879_077004_798C.nc'}\n",
      "{'scheme': 'OGC:WMS', 'url': 'https://adc-wms.met.no/get_wms/f124218a-3dcb-4ee1-ac93-1051d5efbbc3/wms'}\n",
      "{'scheme': 'WWW:DOWNLOAD-1.0-http--download', 'url': 'https://nbstds.met.no/thredds/fileServer/nbsArchive/S1A/2025/06/30/EW/S1A_EW_GRDM_1SDH_20250630T175659_20250630T175748_059879_077004_798C.zip'}\n",
      "{'scheme': 'OPeNDAP:OPeNDAP', 'url': 'https://nbstds.met.no/thredds/dodsC/NBS/S1A/2025/06/11/EW/S1A_EW_GRDM_1SDH_20250611T063951_20250611T064055_059595_076620_4563.nc'}\n",
      "{'scheme': 'OGC:WMS', 'url': 'https://adc-wms.met.no/get_wms/30794d32-44bf-40b4-bf59-bb9deb03f863/wms'}\n",
      "{'scheme': 'WWW:DOWNLOAD-1.0-http--download', 'url': 'https://nbstds.met.no/thredds/fileServer/nbsArchive/S1A/2025/06/11/EW/S1A_EW_GRDM_1SDH_20250611T063951_20250611T064055_059595_076620_4563.zip'}\n",
      "{'scheme': 'OPeNDAP:OPeNDAP', 'url': 'https://nbstds.met.no/thredds/dodsC/NBS/S1A/2025/06/26/EW/S1A_EW_GRDM_1SDH_20250626T070538_20250626T070638_059814_076DC0_D27C.nc'}\n",
      "{'scheme': 'OGC:WMS', 'url': 'https://adc-wms.met.no/get_wms/3191358e-d41d-4948-85e6-c00935d982fe/wms'}\n",
      "{'scheme': 'WWW:DOWNLOAD-1.0-http--download', 'url': 'https://nbstds.met.no/thredds/fileServer/nbsArchive/S1A/2025/06/26/EW/S1A_EW_GRDM_1SDH_20250626T070538_20250626T070638_059814_076DC0_D27C.zip'}\n"
     ]
    }
   ],
   "source": [
    "for key, value in list(csw.records.items()):\n",
    "    for ref in value.references:\n",
    "        print(ref)"
   ]
  },
  {
   "cell_type": "markdown",
   "id": "dfd47b04-6a14-4a2b-bc4b-9c2cbac88e4d",
   "metadata": {},
   "source": [
    "### Returning a List of OPeNDAP URLs\n",
    "\n",
    "**OPeNDAP** (Open-source Project for a Network Data Access Protocol) is a protocol designed for remote access to scientific datasets in **netCDF** format. It enables users to retrieve specific subsets of data over the web—such as selected variables, spatial regions, or time ranges—without needing to download the entire file. Access is performed via standard HTTP requests, making it ideal for working with large datasets efficiently.\n",
    "\n",
    "In the NBS project, the following products are served in netCDF format via OPeNDAP:\n",
    "\n",
    "- **Sentinel-1 GRD** products (30-day rolling archive)  \n",
    "- **Sentinel-2** products (365-day rolling archive)"
   ]
  },
  {
   "cell_type": "code",
   "execution_count": 5,
   "id": "6f6d5380-780b-4f3b-8cbe-57093883c3d6",
   "metadata": {},
   "outputs": [
    {
     "data": {
      "text/plain": [
       "['https://nbstds.met.no/thredds/dodsC/NBS/S1C/2025/06/30/EW/S1C_EW_GRDM_1SDH_20250630T072052_20250630T072152_003009_006209_645B.nc',\n",
       " 'https://nbstds.met.no/thredds/dodsC/NBS/S1C/2025/06/30/EW/S1C_EW_GRDM_1SDH_20250630T071952_20250630T072052_003009_006209_F006.nc',\n",
       " 'https://nbstds.met.no/thredds/dodsC/NBS/S1C/2025/06/30/EW/S1C_EW_GRDM_1SDH_20250630T085810_20250630T085910_003010_006213_9C2C.nc',\n",
       " 'https://nbstds.met.no/thredds/dodsC/NBS/S1A/2025/06/30/EW/S1A_EW_GRDM_1SDH_20250630T175659_20250630T175748_059879_077004_798C.nc',\n",
       " 'https://nbstds.met.no/thredds/dodsC/NBS/S1A/2025/06/11/EW/S1A_EW_GRDM_1SDH_20250611T063951_20250611T064055_059595_076620_4563.nc',\n",
       " 'https://nbstds.met.no/thredds/dodsC/NBS/S1A/2025/06/26/EW/S1A_EW_GRDM_1SDH_20250626T070538_20250626T070638_059814_076DC0_D27C.nc']"
      ]
     },
     "execution_count": 5,
     "metadata": {},
     "output_type": "execute_result"
    }
   ],
   "source": [
    "url_opendap = []\n",
    "\n",
    "for key, value in list(csw.records.items()):\n",
    "    for ref in value.references:\n",
    "        if ref['scheme'] == 'OPeNDAP:OPeNDAP':\n",
    "            url_opendap.append(ref['url'])\n",
    "\n",
    "url_opendap"
   ]
  },
  {
   "cell_type": "markdown",
   "id": "162182c3-92ef-4c2e-8a76-650b65d7043f",
   "metadata": {},
   "source": [
    "### Returning a List of WMS URLs\n",
    "\n",
    "**WMS** (Web Map Service) is an Open Geospatial Consortium (OGC) standard for serving georeferenced map images over the web. In the NBS project, WMS is used to visualise Sentinel products directly in a web mapping application, allowing users to preview datasets without downloading the raw data. These visualisations can be accessed by following the provided WMS URLs."
   ]
  },
  {
   "cell_type": "code",
   "execution_count": 6,
   "id": "be0d826b-064c-4e9d-b1ef-01ff3eafc5f1",
   "metadata": {},
   "outputs": [
    {
     "data": {
      "text/plain": [
       "['https://adc-wms.met.no/get_wms/9484cbcc-c1d0-48d8-0de6-0107560ca083/wms',\n",
       " 'https://adc-wms.met.no/get_wms/9484cbcc-c1d0-48d8-0de6-0107560ca710/wms',\n",
       " 'https://adc-wms.met.no/get_wms/9484cbcc-c1d0-48d8-0de6-0107560cce39/wms',\n",
       " 'https://adc-wms.met.no/get_wms/f124218a-3dcb-4ee1-ac93-1051d5efbbc3/wms',\n",
       " 'https://adc-wms.met.no/get_wms/30794d32-44bf-40b4-bf59-bb9deb03f863/wms',\n",
       " 'https://adc-wms.met.no/get_wms/3191358e-d41d-4948-85e6-c00935d982fe/wms']"
      ]
     },
     "execution_count": 6,
     "metadata": {},
     "output_type": "execute_result"
    }
   ],
   "source": [
    "url_wms = []\n",
    "\n",
    "for key, value in list(csw.records.items()):\n",
    "    for ref in value.references:\n",
    "        if ref['scheme'] == 'OGC:WMS':\n",
    "            url_wms.append(ref['url'])\n",
    "\n",
    "url_wms"
   ]
  },
  {
   "cell_type": "markdown",
   "id": "3b33dea3-b890-4917-9b52-79c30103e11e",
   "metadata": {},
   "source": [
    "### Returning a List of URLs for Direct Download\n",
    "\n",
    "In the NBS project, the Sentinel products are available for direct download via a THREDDS catalogue.  \n",
    "**THREDDS** (Thematic Real-time Environmental Distributed Data Services) is a web server developed by Unidata that provides metadata and data access for scientific datasets, typically using standard protocols such as OPeNDAP, HTTP, and WMS."
   ]
  },
  {
   "cell_type": "code",
   "execution_count": 7,
   "id": "da55fe3c-9c2d-4d26-ae82-5dfca2774b4e",
   "metadata": {},
   "outputs": [
    {
     "data": {
      "text/plain": [
       "['https://nbstds.met.no/thredds/fileServer/nbsArchive/S1C/2025/06/30/EW/S1C_EW_GRDM_1SDH_20250630T072052_20250630T072152_003009_006209_645B.zip',\n",
       " 'https://nbstds.met.no/thredds/fileServer/nbsArchive/S1C/2025/06/30/EW/S1C_EW_GRDM_1SDH_20250630T071952_20250630T072052_003009_006209_F006.zip',\n",
       " 'https://nbstds.met.no/thredds/fileServer/nbsArchive/S1C/2025/06/30/EW/S1C_EW_GRDM_1SDH_20250630T085810_20250630T085910_003010_006213_9C2C.zip',\n",
       " 'https://nbstds.met.no/thredds/fileServer/nbsArchive/S1A/2025/06/30/EW/S1A_EW_GRDM_1SDH_20250630T175659_20250630T175748_059879_077004_798C.zip',\n",
       " 'https://nbstds.met.no/thredds/fileServer/nbsArchive/S1A/2025/06/11/EW/S1A_EW_GRDM_1SDH_20250611T063951_20250611T064055_059595_076620_4563.zip',\n",
       " 'https://nbstds.met.no/thredds/fileServer/nbsArchive/S1A/2025/06/26/EW/S1A_EW_GRDM_1SDH_20250626T070538_20250626T070638_059814_076DC0_D27C.zip']"
      ]
     },
     "execution_count": 7,
     "metadata": {},
     "output_type": "execute_result"
    }
   ],
   "source": [
    "url_download = []\n",
    "\n",
    "for key, value in list(csw.records.items()):\n",
    "    for ref in value.references:\n",
    "        if ref['scheme'] == 'WWW:DOWNLOAD-1.0-http--download':\n",
    "            url_download.append(ref['url'])\n",
    "\n",
    "url_download"
   ]
  },
  {
   "cell_type": "markdown",
   "id": "901f3b4e-dff2-460e-8770-6659e1119d60",
   "metadata": {},
   "source": [
    "### Full Example of Querying and Returning URLs for Direct Download"
   ]
  },
  {
   "cell_type": "code",
   "execution_count": 8,
   "id": "469fc451-b5d3-44ee-ac9f-5f590508d75d",
   "metadata": {},
   "outputs": [
    {
     "name": "stdout",
     "output_type": "stream",
     "text": [
      "{'matches': 61, 'returned': 10, 'nextrecord': 11}\n",
      "{'matches': 61, 'returned': 10, 'nextrecord': 21}\n",
      "{'matches': 61, 'returned': 10, 'nextrecord': 32}\n",
      "{'matches': 61, 'returned': 10, 'nextrecord': 43}\n",
      "{'matches': 61, 'returned': 10, 'nextrecord': 54}\n",
      "{'matches': 61, 'returned': 7, 'nextrecord': 0}\n"
     ]
    },
    {
     "data": {
      "text/plain": [
       "['https://nbstds.met.no/thredds/fileServer/nbsArchive/S2C/2025/06/13/S2C_MSIL2A_20250613T104641_N0511_R051_T33VUG_20250613T134507.zip',\n",
       " 'https://nbstds.met.no/thredds/fileServer/nbsArchive/S2C/2025/06/07/S2C_MSIL2A_20250607T102621_N0511_R108_T32VPM_20250607T161214.zip',\n",
       " 'https://nbstds.met.no/thredds/fileServer/nbsArchive/S2C/2025/06/13/S2C_MSIL2A_20250613T104641_N0511_R051_T33VUH_20250613T134507.zip',\n",
       " 'https://nbstds.met.no/thredds/fileServer/nbsArchive/S2B/2025/06/22/S2B_MSIL2A_20250622T102559_N0511_R108_T33VUH_20250622T124912.zip',\n",
       " 'https://nbstds.met.no/thredds/fileServer/nbsArchive/S2B/2025/06/22/S2B_MSIL2A_20250622T102559_N0511_R108_T32VPM_20250622T124912.zip',\n",
       " 'https://nbstds.met.no/thredds/fileServer/nbsArchive/S2B/2025/06/22/S2B_MSIL2A_20250622T102559_N0511_R108_T33VUG_20250622T124912.zip',\n",
       " 'https://nbstds.met.no/thredds/fileServer/nbsArchive/S2B/2025/06/22/S2B_MSIL2A_20250622T102559_N0511_R108_T32VPN_20250622T124912.zip',\n",
       " 'https://nbstds.met.no/thredds/fileServer/nbsArchive/S2B/2025/06/25/S2B_MSIL2A_20250625T103629_N0511_R008_T32VPM_20250625T133526.zip',\n",
       " 'https://nbstds.met.no/thredds/fileServer/nbsArchive/S2B/2025/06/25/S2B_MSIL2A_20250625T103629_N0511_R008_T33VUG_20250625T133526.zip',\n",
       " 'https://nbstds.met.no/thredds/fileServer/nbsArchive/S2B/2025/06/25/S2B_MSIL2A_20250625T103629_N0511_R008_T33VUH_20250625T133526.zip',\n",
       " 'https://nbstds.met.no/thredds/fileServer/nbsArchive/S2B/2025/06/25/S2B_MSIL2A_20250625T103629_N0511_R008_T32VNN_20250625T133526.zip',\n",
       " 'https://nbstds.met.no/thredds/fileServer/nbsArchive/S2B/2025/06/25/S2B_MSIL2A_20250625T103629_N0511_R008_T32VPN_20250625T133526.zip',\n",
       " 'https://nbstds.met.no/thredds/fileServer/nbsArchive/S2A/2025/06/25/S2A_MSIL2A_20250625T104651_N0511_R051_T32VNN_20250625T160822.zip',\n",
       " 'https://nbstds.met.no/thredds/fileServer/nbsArchive/S2A/2025/06/25/S2A_MSIL2A_20250625T104651_N0511_R051_T32VPN_20250625T160822.zip',\n",
       " 'https://nbstds.met.no/thredds/fileServer/nbsArchive/S2A/2025/06/25/S2A_MSIL2A_20250625T104651_N0511_R051_T33VUH_20250625T160822.zip',\n",
       " 'https://nbstds.met.no/thredds/fileServer/nbsArchive/S2A/2025/06/25/S2A_MSIL2A_20250625T104651_N0511_R051_T33VUG_20250625T160822.zip',\n",
       " 'https://nbstds.met.no/thredds/fileServer/nbsArchive/S2A/2025/06/25/S2A_MSIL2A_20250625T104651_N0511_R051_T32VPM_20250625T160822.zip',\n",
       " 'https://nbstds.met.no/thredds/fileServer/nbsArchive/S2B/2025/06/28/S2B_MSIL2A_20250628T104619_N0511_R051_T32VNN_20250628T115715.zip',\n",
       " 'https://nbstds.met.no/thredds/fileServer/nbsArchive/S2B/2025/06/28/S2B_MSIL2A_20250628T104619_N0511_R051_T32VPN_20250628T115715.zip',\n",
       " 'https://nbstds.met.no/thredds/fileServer/nbsArchive/S2B/2025/06/15/S2B_MSIL2A_20250615T103619_N0511_R008_T32VPN_20250615T115248.zip',\n",
       " 'https://nbstds.met.no/thredds/fileServer/nbsArchive/S2B/2025/06/15/S2B_MSIL2A_20250615T103619_N0511_R008_T33VUG_20250615T115248.zip',\n",
       " 'https://nbstds.met.no/thredds/fileServer/nbsArchive/S2B/2025/06/15/S2B_MSIL2A_20250615T103619_N0511_R008_T33VUH_20250615T115248.zip',\n",
       " 'https://nbstds.met.no/thredds/fileServer/nbsArchive/S2B/2025/06/12/S2B_MSIL2A_20250612T102559_N0511_R108_T33VUG_20250612T124505.zip',\n",
       " 'https://nbstds.met.no/thredds/fileServer/nbsArchive/S2B/2025/06/12/S2B_MSIL2A_20250612T102559_N0511_R108_T32VPM_20250612T124505.zip',\n",
       " 'https://nbstds.met.no/thredds/fileServer/nbsArchive/S2B/2025/06/12/S2B_MSIL2A_20250612T102559_N0511_R108_T33VUH_20250612T124505.zip',\n",
       " 'https://nbstds.met.no/thredds/fileServer/nbsArchive/S2B/2025/06/15/S2B_MSIL2A_20250615T103619_N0511_R008_T32VNN_20250615T115248.zip',\n",
       " 'https://nbstds.met.no/thredds/fileServer/nbsArchive/S2B/2025/06/15/S2B_MSIL2A_20250615T103619_N0511_R008_T32VPM_20250615T115248.zip',\n",
       " 'https://nbstds.met.no/thredds/fileServer/nbsArchive/S2B/2025/06/12/S2B_MSIL2A_20250612T102559_N0511_R108_T32VPN_20250612T124505.zip',\n",
       " 'https://nbstds.met.no/thredds/fileServer/nbsArchive/S2B/2025/06/05/S2B_MSIL2A_20250605T103619_N0511_R008_T32VNN_20250605T125847.zip',\n",
       " 'https://nbstds.met.no/thredds/fileServer/nbsArchive/S2B/2025/06/05/S2B_MSIL2A_20250605T103619_N0511_R008_T32VPM_20250605T125847.zip',\n",
       " 'https://nbstds.met.no/thredds/fileServer/nbsArchive/S2B/2025/06/08/S2B_MSIL2A_20250608T104619_N0511_R051_T33VUH_20250608T115829.zip',\n",
       " 'https://nbstds.met.no/thredds/fileServer/nbsArchive/S2B/2025/06/08/S2B_MSIL2A_20250608T104619_N0511_R051_T32VNN_20250608T115829.zip',\n",
       " 'https://nbstds.met.no/thredds/fileServer/nbsArchive/S2B/2025/06/05/S2B_MSIL2A_20250605T103619_N0511_R008_T32VPN_20250605T125847.zip',\n",
       " 'https://nbstds.met.no/thredds/fileServer/nbsArchive/S2B/2025/06/18/S2B_MSIL2A_20250618T104619_N0511_R051_T32VPM_20250618T130630.zip',\n",
       " 'https://nbstds.met.no/thredds/fileServer/nbsArchive/S2C/2025/06/07/S2C_MSIL2A_20250607T102621_N0511_R108_T33VUH_20250607T161214.zip',\n",
       " 'https://nbstds.met.no/thredds/fileServer/nbsArchive/S2C/2025/06/13/S2C_MSIL2A_20250613T104641_N0511_R051_T32VNN_20250613T134507.zip',\n",
       " 'https://nbstds.met.no/thredds/fileServer/nbsArchive/S2C/2025/06/30/S2C_MSIL2A_20250630T104041_N0511_R008_T32VPM_20250630T161206.zip',\n",
       " 'https://nbstds.met.no/thredds/fileServer/nbsArchive/S2C/2025/06/17/S2C_MSIL2A_20250617T102621_N0511_R108_T32VPM_20250617T142916.zip',\n",
       " 'https://nbstds.met.no/thredds/fileServer/nbsArchive/S2C/2025/06/17/S2C_MSIL2A_20250617T102621_N0511_R108_T33VUH_20250617T142916.zip',\n",
       " 'https://nbstds.met.no/thredds/fileServer/nbsArchive/S2C/2025/06/10/S2C_MSIL2A_20250610T103641_N0511_R008_T33VUH_20250610T132001.zip',\n",
       " 'https://nbstds.met.no/thredds/fileServer/nbsArchive/S2C/2025/06/07/S2C_MSIL2A_20250607T102621_N0511_R108_T33VUG_20250607T161214.zip',\n",
       " 'https://nbstds.met.no/thredds/fileServer/nbsArchive/S2C/2025/06/07/S2C_MSIL2A_20250607T102621_N0511_R108_T32VPN_20250607T161214.zip',\n",
       " 'https://nbstds.met.no/thredds/fileServer/nbsArchive/S2C/2025/06/10/S2C_MSIL2A_20250610T103641_N0511_R008_T32VNN_20250610T132001.zip',\n",
       " 'https://nbstds.met.no/thredds/fileServer/nbsArchive/S2C/2025/06/30/S2C_MSIL2A_20250630T104041_N0511_R008_T32VPN_20250630T161206.zip',\n",
       " 'https://nbstds.met.no/thredds/fileServer/nbsArchive/S2C/2025/06/10/S2C_MSIL2A_20250610T103641_N0511_R008_T32VPM_20250610T132001.zip',\n",
       " 'https://nbstds.met.no/thredds/fileServer/nbsArchive/S2C/2025/06/13/S2C_MSIL2A_20250613T104641_N0511_R051_T32VPM_20250613T134507.zip',\n",
       " 'https://nbstds.met.no/thredds/fileServer/nbsArchive/S2C/2025/06/30/S2C_MSIL2A_20250630T104041_N0511_R008_T33VUH_20250630T161206.zip',\n",
       " 'https://nbstds.met.no/thredds/fileServer/nbsArchive/S2C/2025/06/17/S2C_MSIL2A_20250617T102621_N0511_R108_T32VPN_20250617T142916.zip']"
      ]
     },
     "execution_count": 8,
     "metadata": {},
     "output_type": "execute_result"
    }
   ],
   "source": [
    "bbox = [11, 60, 12, 61] # minx, miny, maxx, maxy\n",
    "start = datetime(2025, 6, 5, 00, 00, 00).replace(tzinfo=pytz.utc)\n",
    "stop = datetime(2025, 7, 3, 00, 00, 00).replace(tzinfo=pytz.utc)\n",
    "product_name_pattern = 'S2*L2A*'\n",
    "\n",
    "csw, filter_list = _create_filter(bbox, start, stop, product_name_pattern)\n",
    "\n",
    "_get_csw_records(csw, filter_list, pagesize=10, maxrecords=100)\n",
    "\n",
    "url_download = []\n",
    "\n",
    "for key, value in list(csw.records.items()):\n",
    "    for ref in value.references:\n",
    "        if ref['scheme'] == 'WWW:DOWNLOAD-1.0-http--download':\n",
    "            url_download.append(ref['url'])\n",
    "\n",
    "url_download"
   ]
  }
 ],
 "metadata": {
  "kernelspec": {
   "display_name": "Python 3 (ipykernel)",
   "language": "python",
   "name": "python3"
  },
  "language_info": {
   "codemirror_mode": {
    "name": "ipython",
    "version": 3
   },
   "file_extension": ".py",
   "mimetype": "text/x-python",
   "name": "python",
   "nbconvert_exporter": "python",
   "pygments_lexer": "ipython3",
   "version": "3.11.5"
  }
 },
 "nbformat": 4,
 "nbformat_minor": 5
}
